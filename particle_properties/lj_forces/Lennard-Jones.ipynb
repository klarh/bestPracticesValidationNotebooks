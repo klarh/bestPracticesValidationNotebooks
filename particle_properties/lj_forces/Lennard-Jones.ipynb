{
 "cells": [
  {
   "cell_type": "markdown",
   "metadata": {},
   "source": [
    "# Introduction\n",
    "\n",
    "In this notebook, we will test one of the simplest coarse-grained potentials, the Lennard-Jones potential (cite LJ paper here). The 12-6 Lennard Jones potential is pairwise, defined as\n",
    "\n",
    "$U_{LJ}(r) = 4\\epsilon \\left( \\left(\\frac{\\sigma}{r}\\right)^{12} - \\left(\\frac{\\sigma}{r}\\right)^{6} \\right)$.\n",
    "\n",
    "Here we will:\n",
    "\n",
    "- Compare the pairwise energy of two particles at a distance $0.9\\sigma$ from each other\n",
    "- Compare the total potential energy of a simple 2x3x4 simple cubic grid of particles\n",
    "- Compare the total potential energy of the same simple cubic grid, but for the Weeks-Chandler-Andersen potential (citation here), which is the Lennard-Jones potential but truncated and shifted at $r=2^{1/6}\\sigma$."
   ]
  },
  {
   "cell_type": "code",
   "execution_count": 1,
   "metadata": {
    "collapsed": true
   },
   "outputs": [],
   "source": [
    "import itertools\n",
    "import subprocess\n",
    "import io\n",
    "import numpy as np\n",
    "import signac"
   ]
  },
  {
   "cell_type": "code",
   "execution_count": 2,
   "metadata": {},
   "outputs": [
    {
     "name": "stdout",
     "output_type": "stream",
     "text": [
      "{'package': 'reference', 'version': None, 'rcut': 2.5}\n",
      "{'two_particle_energies': [3.3180594766264613, 3.3180594766264613], 'lj_slab_energy': -32.301335619773035, 'wca_slab_energy': 46.0}\n"
     ]
    }
   ],
   "source": [
    "def lj_energy(r, epsilon, sigma):\n",
    "    \"\"\"Basic, unshifted version of a 12-6 Lennard-Jones potential\"\"\"\n",
    "    result = 4*epsilon*((sigma/float(r))**12 - (sigma/float(r))**6)\n",
    "    return result\n",
    "\n",
    "def wca_energy(r, epsilon, sigma):\n",
    "    \"\"\"Shifted, truncated Weeks-Chandler-Andersen potential\"\"\"\n",
    "    return (r <= 2.**(1./6)*sigma)*(lj_energy(r, epsilon, sigma) + 1)\n",
    "\n",
    "# create a 2x3x4 grid of particles of distance 1 from each other\n",
    "slab_positions = np.array(list(itertools.product(range(2), range(3), range(4))), dtype=np.float32)\n",
    "\n",
    "project = signac.init_project('lennard_jones')\n",
    "\n",
    "reference_parameters = dict(package='reference', version=None, rcut=2.5)\n",
    "print(reference_parameters)\n",
    "with project.open_job(reference_parameters) as job:\n",
    "    # the energy is for a pair of particles, so divide the result by 2\n",
    "    two_particle_energies = 2*[lj_energy(0.9, 1, 1)/2]\n",
    "    job.document['two_particle_energies'] = two_particle_energies\n",
    "    \n",
    "    lj_slab_energy = 0\n",
    "    for (ri, rj) in itertools.combinations(slab_positions, 2):\n",
    "        mag_r = np.linalg.norm(rj - ri)\n",
    "        lj_slab_energy += lj_energy(mag_r, 1, 1)\n",
    "    job.document['lj_slab_energy'] = lj_slab_energy\n",
    "    \n",
    "    wca_slab_energy = 0\n",
    "    for (ri, rj) in itertools.combinations(slab_positions, 2):\n",
    "        mag_r = np.linalg.norm(rj - ri)\n",
    "        wca_slab_energy += wca_energy(mag_r, 1, 1)\n",
    "    job.document['wca_slab_energy'] = wca_slab_energy\n",
    "    \n",
    "    print(job.document)"
   ]
  },
  {
   "cell_type": "markdown",
   "metadata": {},
   "source": [
    "# HOOMD-Blue"
   ]
  },
  {
   "cell_type": "code",
   "execution_count": 3,
   "metadata": {
    "scrolled": true
   },
   "outputs": [
    {
     "name": "stdout",
     "output_type": "stream",
     "text": [
      "HOOMD-blue v2.2.0 DOUBLE HPMC_MIXED SSE SSE2 \n",
      "Compiled: 11/09/2017\n",
      "Copyright 2009-2017 The Regents of the University of Michigan.\n",
      "-----\n",
      "You are using HOOMD-blue. Please cite the following:\n",
      "* J A Anderson, C D Lorenz, and A Travesset. \"General purpose molecular dynamics\n",
      "  simulations fully implemented on graphics processing units\", Journal of\n",
      "  Computational Physics 227 (2008) 5342--5359\n",
      "* J Glaser, T D Nguyen, J A Anderson, P Liu, F Spiga, J A Millan, D C Morse, and\n",
      "  S C Glotzer. \"Strong scaling of general-purpose molecular dynamics simulations\n",
      "  on GPUs\", Computer Physics Communications 192 (2015) 97--107\n",
      "-----\n",
      "HOOMD-blue is running on the CPU\n"
     ]
    },
    {
     "data": {
      "text/plain": [
       "<hoomd.context.SimulationContext at 0x7f4e4fea7be0>"
      ]
     },
     "execution_count": 3,
     "metadata": {},
     "output_type": "execute_result"
    }
   ],
   "source": [
    "import hoomd, hoomd.md, hoomd.meta\n",
    "hoomd.context.initialize('')"
   ]
  },
  {
   "cell_type": "code",
   "execution_count": 4,
   "metadata": {},
   "outputs": [
    {
     "name": "stdout",
     "output_type": "stream",
     "text": [
      "notice(2): Group \"all\" created containing 2 particles\n"
     ]
    },
    {
     "name": "stderr",
     "output_type": "stream",
     "text": [
      "*Warning*: integrate.*: A timestep of less than 0.0 wa"
     ]
    },
    {
     "name": "stdout",
     "output_type": "stream",
     "text": [
      "notice(2): -- Neighborlist exclusion statistics -- :\n",
      "notice(2): Particles with 0 exclusions             : 2\n",
      "notice(2): Neighbors included by diameter          : no\n",
      "notice(2): Neighbors excluded when in the same body: no\n",
      "** starting run **\n",
      "Time 00:00:00 | Step 1 / 1 | TPS 3.15063 | ETA 00:00:00\n",
      "Average TPS: 3.13928\n",
      "---------\n",
      "-- Neighborlist stats:\n",
      "0 normal updates / 1 forced updates / 0 dangerous updates\n",
      "n_neigh_min: 0 / n_neigh_max: 1 / n_neigh_avg: 0.5\n",
      "shortest rebuild period: 100\n",
      "-- Cell list stats:\n",
      "Dimension: 3, 3, 3\n",
      "n_min    : 0 / n_max: 2 / n_avg: 0.0740741\n",
      "** run complete **\n"
     ]
    },
    {
     "name": "stderr",
     "output_type": "stream",
     "text": [
      "s specified\n"
     ]
    }
   ],
   "source": [
    "box = hoomd.data.boxdim(L=10)\n",
    "positions = [(0, 0, 0), (0.9, 0, 0)]\n",
    "\n",
    "with hoomd.context.SimulationContext():\n",
    "    snapshot = hoomd.data.make_snapshot(len(positions), box)\n",
    "    snapshot.particles.position[:] = positions\n",
    "    system = hoomd.init.read_snapshot(snapshot)\n",
    "    \n",
    "    nlist = hoomd.md.nlist.cell()\n",
    "    lj_force = hoomd.md.pair.lj(r_cut=reference_parameters['rcut'], nlist=nlist)\n",
    "    lj_force.pair_coeff.set('A', 'A', sigma=1, epsilon=1)\n",
    "    \n",
    "    # integrate for one step with a timestep size of 0\n",
    "    hoomd.md.integrate.mode_standard(dt=0)\n",
    "    nve = hoomd.md.integrate.nve(group=hoomd.group.all())\n",
    "    hoomd.run(1)\n",
    "    \n",
    "    metadata = hoomd.meta.dump_metadata()\n",
    "    hoomd_parameters = dict(package='hoomd', version=metadata['hoomd'], rcut=reference_parameters['rcut'])\n",
    "    \n",
    "    with project.open_job(hoomd_parameters) as job:\n",
    "        two_particle_energies = [p.net_energy for p in system.particles]\n",
    "        job.document['two_particle_energies'] = two_particle_energies"
   ]
  },
  {
   "cell_type": "code",
   "execution_count": 5,
   "metadata": {},
   "outputs": [
    {
     "name": "stdout",
     "output_type": "stream",
     "text": [
      "notice(2): Group \"all\" created containing 24 particles\n"
     ]
    },
    {
     "name": "stderr",
     "output_type": "stream",
     "text": [
      "*Warning*: integrate.*: A timestep of less than 0"
     ]
    },
    {
     "name": "stdout",
     "output_type": "stream",
     "text": [
      "notice(2): -- Neighborlist exclusion statistics -- :\n",
      "notice(2): Particles with 0 exclusions             : 24\n",
      "notice(2): Neighbors included by diameter          : no\n",
      "notice(2): Neighbors excluded when in the same body: no\n",
      "** starting run **\n",
      "Time 00:00:00 | Step 1 / 1 | TPS 3.15177 | ETA 00:00:00\n",
      "Average TPS: 3.13865\n",
      "---------\n",
      "-- Neighborlist stats:\n",
      "0 normal updates / 1 forced updates / 0 dangerous updates\n",
      "n_neigh_min: 0 / n_neigh_max: 17 / n_neigh_avg: 9.66667\n",
      "shortest rebuild period: 100\n",
      "-- Cell list stats:\n",
      "Dimension: 6, 6, 6\n",
      "n_min    : 0 / n_max: 24 / n_avg: 0.111111\n",
      "** run complete **\n"
     ]
    },
    {
     "name": "stderr",
     "output_type": "stream",
     "text": [
      ".0 was specified\n"
     ]
    }
   ],
   "source": [
    "box = hoomd.data.boxdim(L=20)\n",
    "\n",
    "with hoomd.context.SimulationContext():\n",
    "    snapshot = hoomd.data.make_snapshot(len(slab_positions), box)\n",
    "    snapshot.particles.position[:] = slab_positions\n",
    "    system = hoomd.init.read_snapshot(snapshot)\n",
    "    \n",
    "    nlist = hoomd.md.nlist.cell()\n",
    "    lj_force = hoomd.md.pair.lj(r_cut=reference_parameters['rcut'], nlist=nlist)\n",
    "    lj_force.pair_coeff.set('A', 'A', sigma=1, epsilon=1)\n",
    "    \n",
    "    # integrate for one step with a timestep size of 0\n",
    "    hoomd.md.integrate.mode_standard(dt=0)\n",
    "    nve = hoomd.md.integrate.nve(group=hoomd.group.all())\n",
    "    hoomd.run(1)\n",
    "    \n",
    "    metadata = hoomd.meta.dump_metadata()\n",
    "    hoomd_parameters = dict(package='hoomd', version=metadata['hoomd'], rcut=reference_parameters['rcut'])\n",
    "    \n",
    "    with project.open_job(hoomd_parameters) as job:\n",
    "        slab_particle_energies = [p.net_energy for p in system.particles]\n",
    "        job.document['lj_slab_energy'] = sum(slab_particle_energies)"
   ]
  },
  {
   "cell_type": "code",
   "execution_count": 6,
   "metadata": {},
   "outputs": [
    {
     "name": "stdout",
     "output_type": "stream",
     "text": [
      "notice(2): Group \"all\" created containing 24 particles\n"
     ]
    },
    {
     "name": "stderr",
     "output_type": "stream",
     "text": [
      "*Warning*: integrate.*: A timestep of less than 0."
     ]
    },
    {
     "name": "stdout",
     "output_type": "stream",
     "text": [
      "notice(2): -- Neighborlist exclusion statistics -- :\n",
      "notice(2): Particles with 0 exclusions             : 24\n",
      "notice(2): Neighbors included by diameter          : no\n",
      "notice(2): Neighbors excluded when in the same body: no\n",
      "** starting run **\n",
      "Time 00:00:00 | Step 1 / 1 | TPS 3.18552 | ETA 00:00:00\n",
      "Average TPS: 3.17164\n",
      "---------\n",
      "-- Neighborlist stats:\n",
      "0 normal updates / 1 forced updates / 0 dangerous updates\n",
      "n_neigh_min: 0 / n_neigh_max: 9 / n_neigh_avg: 4.33333\n",
      "shortest rebuild period: 100\n",
      "-- Cell list stats:\n",
      "Dimension: 13, 13, 13\n",
      "n_min    : 0 / n_max: 4 / n_avg: 0.010924\n",
      "** run complete **\n"
     ]
    },
    {
     "name": "stderr",
     "output_type": "stream",
     "text": [
      "0 was specified\n"
     ]
    }
   ],
   "source": [
    "box = hoomd.data.boxdim(L=20)\n",
    "\n",
    "with hoomd.context.SimulationContext():\n",
    "    snapshot = hoomd.data.make_snapshot(len(slab_positions), box)\n",
    "    snapshot.particles.position[:] = slab_positions\n",
    "    system = hoomd.init.read_snapshot(snapshot)\n",
    "    \n",
    "    nlist = hoomd.md.nlist.cell()\n",
    "    lj_force = hoomd.md.pair.lj(r_cut=2.**(1./6), nlist=nlist)\n",
    "    lj_force.pair_coeff.set('A', 'A', sigma=1, epsilon=1)\n",
    "    lj_force.set_params(mode='shift')\n",
    "    \n",
    "    # integrate for one step with a timestep size of 0\n",
    "    hoomd.md.integrate.mode_standard(dt=0)\n",
    "    nve = hoomd.md.integrate.nve(group=hoomd.group.all())\n",
    "    hoomd.run(1)\n",
    "    \n",
    "    metadata = hoomd.meta.dump_metadata()\n",
    "    hoomd_parameters = dict(package='hoomd', version=metadata['hoomd'], rcut=reference_parameters['rcut'])\n",
    "    \n",
    "    with project.open_job(hoomd_parameters) as job:\n",
    "        slab_particle_energies = [p.net_energy for p in system.particles]\n",
    "        job.document['wca_slab_energy'] = sum(slab_particle_energies)"
   ]
  },
  {
   "cell_type": "code",
   "execution_count": 7,
   "metadata": {},
   "outputs": [
    {
     "name": "stdout",
     "output_type": "stream",
     "text": [
      "{'package': 'hoomd', 'version': {'compiler_version': 'gcc 7.2.0', 'cuda_version': [0, 0], 'hoomd_compile_flags': 'DOUBLE HPMC_MIXED SSE SSE2 ', 'hoomd_git_refspec': 'unknown', 'hoomd_git_sha1': '950e9fec2fff2a4eb75b7d211e59104cab10e19a', 'hoomd_version': [2, 2, 0]}, 'rcut': 2.5}\n",
      "{'two_particle_energies': [3.318061129578318, 3.318061129578318], 'lj_slab_energy': -32.06916703257887, 'wca_slab_energy': 46.0}\n"
     ]
    }
   ],
   "source": [
    "print(hoomd_parameters)\n",
    "\n",
    "with project.open_job(hoomd_parameters) as job:\n",
    "    print(job.document)"
   ]
  },
  {
   "cell_type": "markdown",
   "metadata": {},
   "source": [
    "# amber, lammps, gromacs, and so on...\n",
    "\n",
    "Note: MPS has never used lammps a significant amount, so there are probably more intelligent ways to do this."
   ]
  },
  {
   "cell_type": "code",
   "execution_count": 8,
   "metadata": {},
   "outputs": [],
   "source": [
    "lammps_executable = 'lmp_mpi'\n",
    "\n",
    "lammps_version = subprocess.check_output([lammps_executable]).decode().splitlines()[0]\n",
    "lammps_parameters = dict(package='lammps', version=lammps_version, rcut=reference_parameters['rcut'])"
   ]
  },
  {
   "cell_type": "code",
   "execution_count": 9,
   "metadata": {},
   "outputs": [
    {
     "name": "stdout",
     "output_type": "stream",
     "text": [
      "\n"
     ]
    }
   ],
   "source": [
    "init_text = \"\"\"\n",
    "2 atoms\n",
    "\n",
    "-10 10 xlo xhi\n",
    "-10 10 ylo yhi\n",
    "-10 10 zlo zhi\n",
    "\n",
    "1 atom types\n",
    "\n",
    "Masses\n",
    "\n",
    "1 1\n",
    "\n",
    "Atoms\n",
    "\n",
    "    1    1    0 0 0\n",
    "    2    1    0.9 0 0\n",
    "\"\"\"\n",
    "\n",
    "commands = \"\"\"\n",
    "units lj\n",
    "read_data init.dat\n",
    "mass * 1.0\n",
    "\n",
    "pair_style lj/cut 2.5\n",
    "pair_coeff * * 1 1\n",
    "\n",
    "compute eng all pe\n",
    "\n",
    "timestep 0 \n",
    "run 1\n",
    "\"\"\"\n",
    "\n",
    "with project.open_job(hoomd_parameters) as job:        \n",
    "    with open('init.dat', 'w') as init_file:\n",
    "        init_file.write(init_text)\n",
    "        \n",
    "    try:\n",
    "        lammps = subprocess.Popen([lammps_executable], stdin=subprocess.PIPE, \n",
    "                                  stderr=subprocess.PIPE, stdout=subprocess.PIPE)\n",
    "        (stdout, stderr) = lammps.communicate(commands.encode())\n",
    "        print(stderr.decode())\n",
    "        stdout = stdout.decode()\n",
    "    finally:\n",
    "        lammps.terminate()\n",
    "\n",
    "    try:\n",
    "        stdout_lines = stdout.splitlines()\n",
    "        thermo_line = [i for (i, line) in enumerate(stdout_lines) if line.startswith('Step')][0]\n",
    "        thermo_data = dict(zip(stdout_lines[thermo_line].split(), stdout_lines[thermo_line + 1].split()))\n",
    "    except:\n",
    "        print(stdout)\n",
    "    \n",
    "    with project.open_job(lammps_parameters) as job:\n",
    "        two_particle_energies = 2*[float(thermo_data['E_pair'])]\n",
    "        job.document['two_particle_energies'] = two_particle_energies"
   ]
  },
  {
   "cell_type": "code",
   "execution_count": 10,
   "metadata": {},
   "outputs": [
    {
     "name": "stdout",
     "output_type": "stream",
     "text": [
      "\n"
     ]
    }
   ],
   "source": [
    "init_text = \"\"\"\n",
    "{} atoms\n",
    "\n",
    "-10 10 xlo xhi\n",
    "-10 10 ylo yhi\n",
    "-10 10 zlo zhi\n",
    "\n",
    "1 atom types\n",
    "\n",
    "Masses\n",
    "\n",
    "1 1\n",
    "\n",
    "Atoms\n",
    "\"\"\".format(len(slab_positions))\n",
    "\n",
    "init_text = [init_text]\n",
    "for i, (x, y, z) in enumerate(slab_positions):\n",
    "    init_text.append('    {} 1 {} {} {}'.format(i + 1, x, y, z))\n",
    "init_text = '\\n'.join(init_text)\n",
    "\n",
    "with project.open_job(hoomd_parameters) as job:        \n",
    "    with open('init.dat', 'w') as init_file:\n",
    "        init_file.write(init_text)\n",
    "        \n",
    "    try:\n",
    "        lammps = subprocess.Popen([lammps_executable], stdin=subprocess.PIPE, \n",
    "                                  stderr=subprocess.PIPE, stdout=subprocess.PIPE)\n",
    "        (stdout, stderr) = lammps.communicate(commands.encode())\n",
    "        print(stderr.decode())\n",
    "        stdout = stdout.decode()\n",
    "    finally:\n",
    "        lammps.terminate()\n",
    "\n",
    "    try:\n",
    "        stdout_lines = stdout.splitlines()\n",
    "        thermo_line = [i for (i, line) in enumerate(stdout_lines) if line.startswith('Step')][0]\n",
    "        thermo_data = dict(zip(stdout_lines[thermo_line].split(), stdout_lines[thermo_line + 1].split()))\n",
    "    except:\n",
    "        print(stdout)\n",
    "    \n",
    "    with project.open_job(lammps_parameters) as job:\n",
    "        slab_energy = float(thermo_data['E_pair'])\n",
    "        job.document['lj_slab_energy'] = slab_energy*len(slab_positions)"
   ]
  },
  {
   "cell_type": "code",
   "execution_count": 11,
   "metadata": {},
   "outputs": [
    {
     "name": "stdout",
     "output_type": "stream",
     "text": [
      "\n"
     ]
    }
   ],
   "source": [
    "init_text = \"\"\"\n",
    "{} atoms\n",
    "\n",
    "-10 10 xlo xhi\n",
    "-10 10 ylo yhi\n",
    "-10 10 zlo zhi\n",
    "\n",
    "1 atom types\n",
    "\n",
    "Masses\n",
    "\n",
    "1 1\n",
    "\n",
    "Atoms\n",
    "\"\"\".format(len(slab_positions))\n",
    "\n",
    "init_text = [init_text]\n",
    "for i, (x, y, z) in enumerate(slab_positions):\n",
    "    init_text.append('    {} 1 {} {} {}'.format(i + 1, x, y, z))\n",
    "init_text = '\\n'.join(init_text)\n",
    "\n",
    "commands = \"\"\"\n",
    "units lj\n",
    "read_data init.dat\n",
    "mass * 1.0\n",
    "\n",
    "pair_style lj/cut 1.122462048309373\n",
    "pair_modify shift yes\n",
    "pair_coeff * * 1 1 \n",
    "\n",
    "compute eng all pe\n",
    "\n",
    "timestep 0 \n",
    "run 1\n",
    "\"\"\"\n",
    "\n",
    "with project.open_job(hoomd_parameters) as job:        \n",
    "    with open('init.dat', 'w') as init_file:\n",
    "        init_file.write(init_text)\n",
    "        \n",
    "    try:\n",
    "        lammps = subprocess.Popen([lammps_executable], stdin=subprocess.PIPE, \n",
    "                                  stderr=subprocess.PIPE, stdout=subprocess.PIPE)\n",
    "        (stdout, stderr) = lammps.communicate(commands.encode())\n",
    "        print(stderr.decode())\n",
    "        stdout = stdout.decode()\n",
    "    finally:\n",
    "        lammps.terminate()\n",
    "\n",
    "    try:\n",
    "        stdout_lines = stdout.splitlines()\n",
    "        thermo_line = [i for (i, line) in enumerate(stdout_lines) if line.startswith('Step')][0]\n",
    "        thermo_data = dict(zip(stdout_lines[thermo_line].split(), stdout_lines[thermo_line + 1].split()))\n",
    "    except:\n",
    "        print(stdout)\n",
    "    \n",
    "    with project.open_job(lammps_parameters) as job:\n",
    "        slab_energy = float(thermo_data['E_pair'])\n",
    "        job.document['wca_slab_energy'] = slab_energy*len(slab_positions)"
   ]
  },
  {
   "cell_type": "code",
   "execution_count": 12,
   "metadata": {},
   "outputs": [
    {
     "name": "stdout",
     "output_type": "stream",
     "text": [
      "{'package': 'lammps', 'version': 'LAMMPS (11 Aug 2017)', 'rcut': 2.5}\n",
      "{'two_particle_energies': [3.3180595, 3.3180595], 'lj_slab_energy': -32.0691672, 'wca_slab_energy': 46.000000799999995}\n"
     ]
    }
   ],
   "source": [
    "print(lammps_parameters)\n",
    "\n",
    "with project.open_job(lammps_parameters) as job:\n",
    "    print(job.document)"
   ]
  },
  {
   "cell_type": "code",
   "execution_count": null,
   "metadata": {
    "collapsed": true
   },
   "outputs": [],
   "source": []
  }
 ],
 "metadata": {
  "kernelspec": {
   "display_name": "Python 3",
   "language": "python",
   "name": "python3"
  },
  "language_info": {
   "codemirror_mode": {
    "name": "ipython",
    "version": 3
   },
   "file_extension": ".py",
   "mimetype": "text/x-python",
   "name": "python",
   "nbconvert_exporter": "python",
   "pygments_lexer": "ipython3",
   "version": "3.6.2"
  }
 },
 "nbformat": 4,
 "nbformat_minor": 2
}
